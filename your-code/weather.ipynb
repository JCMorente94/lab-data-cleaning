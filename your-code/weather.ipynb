{
 "cells": [
  {
   "cell_type": "markdown",
   "metadata": {},
   "source": [
    "## Global Historical Climatology Network Dataset\n",
    "Variables are stored in both rows and columns\n",
    "This dataset represents the daily weather records for a weather station (MX17004) in Mexico for five months in 2010."
   ]
  },
  {
   "cell_type": "code",
   "execution_count": 2,
   "metadata": {
    "ExecuteTime": {
     "end_time": "2020-02-02T14:17:16.955872Z",
     "start_time": "2020-02-02T14:17:14.497731Z"
    }
   },
   "outputs": [],
   "source": [
    "import pandas as pd\n",
    "import numpy as np"
   ]
  },
  {
   "cell_type": "code",
   "execution_count": 77,
   "metadata": {
    "ExecuteTime": {
     "end_time": "2020-02-02T16:05:42.666341Z",
     "start_time": "2020-02-02T16:05:42.596529Z"
    }
   },
   "outputs": [
    {
     "data": {
      "text/html": [
       "<div>\n",
       "<style scoped>\n",
       "    .dataframe tbody tr th:only-of-type {\n",
       "        vertical-align: middle;\n",
       "    }\n",
       "\n",
       "    .dataframe tbody tr th {\n",
       "        vertical-align: top;\n",
       "    }\n",
       "\n",
       "    .dataframe thead th {\n",
       "        text-align: right;\n",
       "    }\n",
       "</style>\n",
       "<table border=\"1\" class=\"dataframe\">\n",
       "  <thead>\n",
       "    <tr style=\"text-align: right;\">\n",
       "      <th></th>\n",
       "      <th>Id</th>\n",
       "      <th>Date</th>\n",
       "      <th>Tmax</th>\n",
       "      <th>Tmin</th>\n",
       "    </tr>\n",
       "  </thead>\n",
       "  <tbody>\n",
       "    <tr>\n",
       "      <td>0</td>\n",
       "      <td>MX17004</td>\n",
       "      <td>30-1-2010</td>\n",
       "      <td>27.8</td>\n",
       "      <td>Empty</td>\n",
       "    </tr>\n",
       "    <tr>\n",
       "      <td>1</td>\n",
       "      <td>MX17004</td>\n",
       "      <td>30-1-2010</td>\n",
       "      <td>Empty</td>\n",
       "      <td>14.5</td>\n",
       "    </tr>\n",
       "    <tr>\n",
       "      <td>2</td>\n",
       "      <td>MX17004</td>\n",
       "      <td>2-2-2010</td>\n",
       "      <td>27.3</td>\n",
       "      <td>Empty</td>\n",
       "    </tr>\n",
       "    <tr>\n",
       "      <td>3</td>\n",
       "      <td>MX17004</td>\n",
       "      <td>3-2-2010</td>\n",
       "      <td>24.1</td>\n",
       "      <td>Empty</td>\n",
       "    </tr>\n",
       "    <tr>\n",
       "      <td>4</td>\n",
       "      <td>MX17004</td>\n",
       "      <td>11-2-2010</td>\n",
       "      <td>29.7</td>\n",
       "      <td>Empty</td>\n",
       "    </tr>\n",
       "    <tr>\n",
       "      <td>...</td>\n",
       "      <td>...</td>\n",
       "      <td>...</td>\n",
       "      <td>...</td>\n",
       "      <td>...</td>\n",
       "    </tr>\n",
       "    <tr>\n",
       "      <td>61</td>\n",
       "      <td>MX17004</td>\n",
       "      <td>27-11-2010</td>\n",
       "      <td>Empty</td>\n",
       "      <td>14.2</td>\n",
       "    </tr>\n",
       "    <tr>\n",
       "      <td>62</td>\n",
       "      <td>MX17004</td>\n",
       "      <td>1-12-2010</td>\n",
       "      <td>29.9</td>\n",
       "      <td>Empty</td>\n",
       "    </tr>\n",
       "    <tr>\n",
       "      <td>63</td>\n",
       "      <td>MX17004</td>\n",
       "      <td>6-12-2010</td>\n",
       "      <td>27.8</td>\n",
       "      <td>Empty</td>\n",
       "    </tr>\n",
       "    <tr>\n",
       "      <td>64</td>\n",
       "      <td>MX17004</td>\n",
       "      <td>1-12-2010</td>\n",
       "      <td>Empty</td>\n",
       "      <td>13.8</td>\n",
       "    </tr>\n",
       "    <tr>\n",
       "      <td>65</td>\n",
       "      <td>MX17004</td>\n",
       "      <td>6-12-2010</td>\n",
       "      <td>Empty</td>\n",
       "      <td>10.5</td>\n",
       "    </tr>\n",
       "  </tbody>\n",
       "</table>\n",
       "<p>66 rows × 4 columns</p>\n",
       "</div>"
      ],
      "text/plain": [
       "         Id        Date   Tmax   Tmin\n",
       "0   MX17004   30-1-2010   27.8  Empty\n",
       "1   MX17004   30-1-2010  Empty   14.5\n",
       "2   MX17004    2-2-2010   27.3  Empty\n",
       "3   MX17004    3-2-2010   24.1  Empty\n",
       "4   MX17004   11-2-2010   29.7  Empty\n",
       "..      ...         ...    ...    ...\n",
       "61  MX17004  27-11-2010  Empty   14.2\n",
       "62  MX17004   1-12-2010   29.9  Empty\n",
       "63  MX17004   6-12-2010   27.8  Empty\n",
       "64  MX17004   1-12-2010  Empty   13.8\n",
       "65  MX17004   6-12-2010  Empty   10.5\n",
       "\n",
       "[66 rows x 4 columns]"
      ]
     },
     "execution_count": 77,
     "metadata": {},
     "output_type": "execute_result"
    }
   ],
   "source": [
    "df = pd.read_csv(\"../weather-raw.csv\")\n",
    "df = df.fillna(0)\n",
    "\n",
    "ide = ''\n",
    "year = ''\n",
    "month = ''\n",
    "day = ''\n",
    "\n",
    "list1 = []\n",
    "list2 = []\n",
    "list3 = []\n",
    "list4 = []\n",
    "\n",
    "days = list(df.columns[4:].str.extract(\"(d\\d+)\", expand=False))\n",
    "\n",
    "for i in df.index:\n",
    "    for cols in df.columns:\n",
    "        result = \"\"\n",
    "        if cols == 'id':\n",
    "            ide = df[cols][i]\n",
    "        if cols == 'year':\n",
    "            year = df[cols][i]\n",
    "        if cols == 'month':\n",
    "            month = df[cols][i]\n",
    "        if cols == 'element':\n",
    "            if df[cols][i] == 'tmax':\n",
    "                x = 'tmax'\n",
    "            if df[cols][i] == 'tmin':\n",
    "                x = 'tmin'\n",
    "        if cols in days and df[cols][i] != 0:\n",
    "            if x == 'tmax':\n",
    "                list1.append(ide)\n",
    "                list2.append(f'{cols[1:]}-{month}-{year}')\n",
    "                list3.append(df[cols][i])\n",
    "                list4.append('Empty')   \n",
    "            if x == 'tmin':\n",
    "                list1.append(ide)\n",
    "                list2.append(f'{cols[1:]}-{month}-{year}')\n",
    "                list4.append(df[cols][i])\n",
    "                list3.append('Empty') \n",
    "\n",
    "d = {\n",
    "    'Id': list1,\n",
    "    'Date': list2,\n",
    "    'Tmax': list3,\n",
    "    'Tmin': list4,\n",
    "    }\n",
    "pd.DataFrame(d)"
   ]
  },
  {
   "cell_type": "code",
   "execution_count": null,
   "metadata": {},
   "outputs": [],
   "source": []
  }
 ],
 "metadata": {
  "kernelspec": {
   "display_name": "Python 3",
   "language": "python",
   "name": "python3"
  },
  "language_info": {
   "codemirror_mode": {
    "name": "ipython",
    "version": 3
   },
   "file_extension": ".py",
   "mimetype": "text/x-python",
   "name": "python",
   "nbconvert_exporter": "python",
   "pygments_lexer": "ipython3",
   "version": "3.7.4"
  },
  "varInspector": {
   "cols": {
    "lenName": 16,
    "lenType": 16,
    "lenVar": 40
   },
   "kernels_config": {
    "python": {
     "delete_cmd_postfix": "",
     "delete_cmd_prefix": "del ",
     "library": "var_list.py",
     "varRefreshCmd": "print(var_dic_list())"
    },
    "r": {
     "delete_cmd_postfix": ") ",
     "delete_cmd_prefix": "rm(",
     "library": "var_list.r",
     "varRefreshCmd": "cat(var_dic_list()) "
    }
   },
   "types_to_exclude": [
    "module",
    "function",
    "builtin_function_or_method",
    "instance",
    "_Feature"
   ],
   "window_display": false
  }
 },
 "nbformat": 4,
 "nbformat_minor": 2
}
